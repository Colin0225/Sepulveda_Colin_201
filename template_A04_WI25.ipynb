{
 "cells": [
  {
   "cell_type": "raw",
   "id": "33dd6c4c",
   "metadata": {
    "vscode": {
     "languageId": "raw"
    }
   },
   "source": [
    "---\n",
    "title: \"Assignment 4\"\n",
    "subtitle: \"STAT 201\"\n",
    "author: \"Colin Sepulveda\"\n",
    "format:\n",
    "  html:\n",
    "    toc: true\n",
    "    embed-resources: true\n",
    "jupyter: python3\n",
    "---"
   ]
  },
  {
   "cell_type": "markdown",
   "id": "0116f49b",
   "metadata": {},
   "source": [
    "## Instructions {-}\n",
    "\n",
    "1. **Write your name** on the assignment.\n",
    "\n",
    "2. Write your code in the *Code* cells of the **template provided** to write solutions for the assignment. **Do not open a new notebook**, and work from scratch. Ensure that the solution is written neatly enough to understand and grade.\n",
    "\n",
    "3. Use [Quarto](https://quarto.org/docs/output-formats/html-basics.html) to print the *.ipynb* file as HTML. You will need to open the command prompt, navigate to the directory containing the file, and use the command: `quarto render filename.ipynb --to html`. Submit the HTML file.\n",
    "\n",
    "4. You may talk to a friend, discuss the questions and potential directions for solving them. However, you need to write your own solutions and code separately, and not as a group activity. Do not use AI to solve the problems.\n",
    "\n",
    "5. If your document is not clean and organized, you can lose up to 2 points:\n",
    "\n",
    "    - Must be an HTML file rendered using Quarto. \n",
    "    - There aren’t excessively long outputs of extraneous information (e.g. no printouts of unnecessary results without good reason, there aren’t long printouts of which iteration a loop is on, there aren’t long sections of commented-out code, etc.). There is no piece of unnecessary / redundant code, and no unnecessary / redundant text\n",
    "    - The code follows the [python style guide](https://peps.python.org/pep-0008/) for naming variables, spaces, indentation, etc.\n",
    "    - The code should be commented and clearly written with intuitive variable names. For example, use variable names such as number_input, factor, hours, instead of a,b,xyz, etc.\n"
   ]
  },
  {
   "cell_type": "markdown",
   "id": "2e27b774",
   "metadata": {},
   "source": [
    "## SMS store manager (10 points)\n",
    "Create a new class, named as *SMS_store_manager*. This class will be used to store and manage SMSs of a person's cellphone. An object of this class, say *my_inbox*, will be initialized with a list of existing messages. The class attribute `messages` will store the existing messages during instantiation:"
   ]
  },
  {
   "cell_type": "code",
   "execution_count": null,
   "id": "8405368b",
   "metadata": {},
   "outputs": [],
   "source": [
    "my_inbox(existing_messages)"
   ]
  },
  {
   "cell_type": "markdown",
   "id": "4decc9b7",
   "metadata": {},
   "source": [
    "Each message in the list will be represented as a dictionary. A sample message is shown below:"
   ]
  },
  {
   "cell_type": "code",
   "execution_count": null,
   "id": "ec4c5583",
   "metadata": {},
   "outputs": [],
   "source": [
    "{'has_been_viewed':True, 'from_number':9348593356, time_arrived='19:50', 'date':'2022-10-27','text_of_SMS':'Hi, how about lunch at 11?'}"
   ]
  },
  {
   "cell_type": "markdown",
   "id": "97ff66ec",
   "metadata": {},
   "source": [
    "The class should provide these methods:"
   ]
  },
  {
   "cell_type": "code",
   "execution_count": null,
   "id": "0c6b5018",
   "metadata": {},
   "outputs": [],
   "source": [
    "my_inbox.add_new_arrival(from_number, time_arrived, text_of_SMS)\n",
    "#Makes new SMS dictionary, inserts it after other messages\n",
    "#in the store, i.e, in the list of messages. When creating this message, its\n",
    "#'has_been_viewed' status is set False.\n",
    "\n",
    "my_inbox.message_count()\n",
    "#Returns the number of sms messages in my_inbox\n",
    "\n",
    "my_inbox.get_unread_messages()\n",
    "#Returns unread messages, i.e., messages with 'has_been_viewed' status as False\n",
    "#Also changes the status of 'has_been_viewed' to True for all messages returned\n",
    "#While returning unread messages, the 'has_been_viewed' status must not be returned\n",
    "\n",
    "my_inbox.delete(i)     # Delete the message at index i\n",
    "my_inbox.clear()       # Delete all messages from inbox"
   ]
  },
  {
   "cell_type": "code",
   "execution_count": 116,
   "id": "21ce7a8d",
   "metadata": {},
   "outputs": [],
   "source": [
    "class SMS_store_manager:\n",
    "    def __init__(self, existing_messages):\n",
    "        self.messages = []\n",
    "        self.messages = existing_messages\n",
    "    \n",
    "    def add_new_arrival(self, from_number, time_arrived, date_arrived, text_of_SMS):\n",
    "        self.messages.insert(0, {'has_been_viewed':False, 'from_number':int(from_number), 'time':time_arrived,'date':date_arrived,'text_of_SMS':text_of_SMS})\n",
    "\n",
    "    def message_count(self):\n",
    "        return len(self.messages)\n",
    "\n",
    "    def get_unread_messages(self):\n",
    "        indices = [self.messages.index(item) for item in self.messages if self.messages[self.messages.index(item)][\"has_been_viewed\"] == False]\n",
    "        unread = [self.messages[i] for i in range(len(self.messages)) if self.messages[i]['has_been_viewed'] == False]\n",
    "        for i in range(len(indices)):\n",
    "            self.messages[indices[i]][\"has_been_viewed\"] = True\n",
    "        return unread\n",
    "\n",
    "    def delete(self, i):\n",
    "        self.messages.pop(i)\n",
    "    \n",
    "    def clear(self):\n",
    "        self.messages = []"
   ]
  },
  {
   "cell_type": "markdown",
   "id": "54c90483",
   "metadata": {},
   "source": [
    "Once you define the class, instantiate an object of this class, and call it *harry_messages*. Initialize the object with the existing messages below."
   ]
  },
  {
   "cell_type": "code",
   "execution_count": 117,
   "id": "dc187354",
   "metadata": {},
   "outputs": [],
   "source": [
    "existing_messages = [{'has_been_viewed':False, 'from_number':8769038451, 'time':'09:30','date':'2022-10-27','text_of_SMS':'Hi, how about lunch at 11?'},\n",
    "                        {'has_been_viewed':False, 'from_number':9579038373, 'time':'19:30','date':'2022-10-20', 'text_of_SMS':'Your order has arrived'},\n",
    "                        {'has_been_viewed':True, 'from_number':8639568726, 'time':'10:30','date':'2022-09-30','text_of_SMS':'Card not present on American Express acc ending 54345 Sep 30 Amount $45.43 Merch: TOMATEFRESHKITCHEN.COM if unrecognized call # on Card'},\n",
    "                        {'has_been_viewed':False, 'from_number':4567653456, 'time':'11:50','date':'2022-09-15','text_of_SMS':'Hi Brooke, we are confirming your Covid vaccine appointment on Thursday at 1900 hours'},\n",
    "                        {'has_been_viewed':False, 'from_number':5646786643, 'time':'18:50','date':'2022-09-11','text_of_SMS':'Where is the party bro?'},\n",
    "                        {'has_been_viewed':False, 'from_number':9845543492, 'time':'17:10','date':'2022-09-10','text_of_SMS':'Free trial of ScanApp for 7 days for clear scanned documents, cancel anytime, $10.99 per month after 7 days'},\n",
    "                        {'has_been_viewed':True, 'from_number':8793450987, 'time':'13:20','date':'2022-08-31','text_of_SMS':'Hey Brooke, I have sent you my resume for feedback'},\n",
    "                        {'has_been_viewed':True, 'from_number':874556445, 'time':'07:20','date':'2022-08-19','text_of_SMS':'Which route are we taking for the run today?'},\n",
    "                        {'has_been_viewed':True, 'from_number':998456435, 'time':'07:20','date':'2022-07-31','text_of_SMS':'Reservation confirmed at the New York Plaza hotel for 2022-08-09 to 2022-09-14.'},\n",
    "                        {'has_been_viewed':True, 'from_number':8769038451, 'time':'07:20','date':'2022-07-25','text_of_SMS':'Lets catchup sometime, it has been so long!'},\n",
    "                        {'has_been_viewed':True, 'from_number':7739984533, 'time':'07:20','date':'2022-07-24','text_of_SMS':'Do you want to be rich today? Do you want to be your own boss? Check out beyourownboss.com. Register today for just $5!!!'},\n",
    "                        {'has_been_viewed':True, 'from_number':3443498738, 'time':'07:20','date':'2022-07-22','text_of_SMS':'Want to lose weight? Get Dr. Oz magic pills @ozpills.com. Satisfaction guaranteed.'}]"
   ]
  },
  {
   "cell_type": "code",
   "execution_count": 78,
   "id": "44a8462a",
   "metadata": {},
   "outputs": [],
   "source": [
    "harry_messages = SMS_store_manager(existing_messages)"
   ]
  },
  {
   "cell_type": "markdown",
   "id": "267eb2c6",
   "metadata": {},
   "source": [
    "Use the object *harry_messages* to:\n",
    "\n",
    "### (2 points)\n",
    "Add a new message below:"
   ]
  },
  {
   "cell_type": "code",
   "execution_count": 79,
   "id": "7b731ff0",
   "metadata": {},
   "outputs": [],
   "source": [
    "from_number=8749373884\n",
    "time='07:25'\n",
    "date='2022-10-29'\n",
    "text_of_SMS='Hey, I want my bike back.'"
   ]
  },
  {
   "cell_type": "code",
   "execution_count": 80,
   "id": "cc6a1ac4",
   "metadata": {},
   "outputs": [],
   "source": [
    "harry_messages.add_new_arrival(from_number, time, date, text_of_SMS)"
   ]
  },
  {
   "cell_type": "markdown",
   "id": "4df7c48e",
   "metadata": {},
   "source": [
    "### (2 points)\n",
    "Count the number of messages.\n"
   ]
  },
  {
   "cell_type": "code",
   "execution_count": 81,
   "id": "cdff6470",
   "metadata": {},
   "outputs": [
    {
     "name": "stdout",
     "output_type": "stream",
     "text": [
      "13\n"
     ]
    }
   ],
   "source": [
    "print(harry_messages.message_count())"
   ]
  },
  {
   "cell_type": "markdown",
   "id": "bc51bedf",
   "metadata": {},
   "source": [
    "### (2 points)\n",
    "Print all the unread messages.\n"
   ]
  },
  {
   "cell_type": "code",
   "execution_count": 82,
   "id": "8748af41",
   "metadata": {},
   "outputs": [
    {
     "data": {
      "text/plain": [
       "['Hey, I want my bike back.',\n",
       " 'Hi, how about lunch at 11?',\n",
       " 'Your order has arrived',\n",
       " 'Hi Brooke, we are confirming your Covid vaccine appointment on Thursday at 1900 hours',\n",
       " 'Where is the party bro?',\n",
       " 'Free trial of ScanApp for 7 days for clear scanned documents, cancel anytime, $10.99 per month after 7 days']"
      ]
     },
     "execution_count": 82,
     "metadata": {},
     "output_type": "execute_result"
    }
   ],
   "source": [
    "harry_messages.get_unread_messages()"
   ]
  },
  {
   "cell_type": "markdown",
   "id": "cc420543",
   "metadata": {},
   "source": [
    "### (2 points)\n",
    "Try printing all the unread messages again *(Nothing should show up as all messages were read in in the previous question)*.\n"
   ]
  },
  {
   "cell_type": "code",
   "execution_count": 83,
   "id": "9458200b",
   "metadata": {},
   "outputs": [
    {
     "data": {
      "text/plain": [
       "[]"
      ]
     },
     "execution_count": 83,
     "metadata": {},
     "output_type": "execute_result"
    }
   ],
   "source": [
    "harry_messages.get_unread_messages()"
   ]
  },
  {
   "cell_type": "markdown",
   "id": "122ffdc6",
   "metadata": {},
   "source": [
    "### (2 points)\n",
    "Clear the inbox, and then count the number of messages.\n"
   ]
  },
  {
   "cell_type": "code",
   "execution_count": 84,
   "id": "3138e97b",
   "metadata": {},
   "outputs": [
    {
     "data": {
      "text/plain": [
       "0"
      ]
     },
     "execution_count": 84,
     "metadata": {},
     "output_type": "execute_result"
    }
   ],
   "source": [
    "harry_messages.clear()\n",
    "harry_messages.message_count()"
   ]
  },
  {
   "cell_type": "markdown",
   "id": "7f11f52e",
   "metadata": {},
   "source": [
    "## Personalized SMS store manager (12 points)"
   ]
  },
  {
   "cell_type": "markdown",
   "id": "1af6cf7f",
   "metadata": {},
   "source": [
    "Inherit the class developed in the previous question to create a new class *SMS_personalized_store_manager*. This class will inherit all the methods of the class *SMS_store_manager*. However, it will have the following differences as compared to the parent class:\n",
    "\n",
    "\n",
    "1. Instantiation\n",
    "\n",
    "    a. During instantiation, it will initialize two additional attributes - `spam_words`, and `update_words`, along with the `messages` attribute which stores existing messages. Use the lists below to initialize the attributes of the class. \n",
    "    \n",
    "    b. Each message will be tagged as `spam`, `update`, or `personal` as follows. If the message contains any word / phrase in the list `spam_words`, then it will be tagged as `spam`. If the messege is not tagged as spam, and it contains any word / phrase in the list `update_words`, then it will be tagged as `update`. If the message has not been tagged as `spam` or `update`, then it will be tagged as `personal`. The tag will appear as an additional key-value pair in the dictionary of each message, where the key will be `tag`, and the value will be `'spam'`, `'update'` or `'personal'`. "
   ]
  },
  {
   "cell_type": "markdown",
   "id": "b903cbb0",
   "metadata": {},
   "source": [
    "A message after tagging may look like:"
   ]
  },
  {
   "cell_type": "code",
   "execution_count": null,
   "id": "ae52fa68",
   "metadata": {},
   "outputs": [],
   "source": [
    "{'has_been_viewed':True, 'from_number':9348593356, \"time_arrived\":'19:50', 'date':'2022-10-27','text_of_SMS':'Hi, how about lunch at 11?', 'tag':'personal'}"
   ]
  },
  {
   "cell_type": "code",
   "execution_count": 146,
   "id": "a217a8c4",
   "metadata": {},
   "outputs": [],
   "source": [
    "#Lists for initializing the attributes of the class\n",
    "existing_messages = [{'has_been_viewed':False, 'from_number':8769038451, 'time':'09:30','date':'2022-10-27','text_of_SMS':'Hi, how about lunch at 11?'},\n",
    "                        {'has_been_viewed':False, 'from_number':9579038373, 'time':'19:30','date':'2022-10-20', 'text_of_SMS':'Your order has arrived'},\n",
    "                        {'has_been_viewed':True, 'from_number':8639568726, 'time':'10:30','date':'2022-09-30','text_of_SMS':'Card not present on American Express acc ending 54345 Sep 30 Amount $45.43 Merch: TOMATEFRESHKITCHEN.COM if unrecognized call # on Card'},\n",
    "                        {'has_been_viewed':False, 'from_number':4567653456, 'time':'11:50','date':'2022-09-15','text_of_SMS':'Hi Brooke, we are confirming your Covid vaccine appointment on Thursday at 1900 hours'},\n",
    "                        {'has_been_viewed':False, 'from_number':5646786643, 'time':'18:50','date':'2022-09-11','text_of_SMS':'Where is the party bro?'},\n",
    "                        {'has_been_viewed':False, 'from_number':9845543492, 'time':'17:10','date':'2022-09-10','text_of_SMS':'Free trial of ScanApp for 7 days for clear scanned documents, cancel anytime, $10.99 per month after 7 days'},\n",
    "                        {'has_been_viewed':True, 'from_number':8793450987, 'time':'13:20','date':'2022-08-31','text_of_SMS':'Hey Brooke, I have sent you my resume for feedback'},\n",
    "                        {'has_been_viewed':True, 'from_number':874556445, 'time':'07:20','date':'2022-08-19','text_of_SMS':'Which route are we taking for the run today?'},\n",
    "                        {'has_been_viewed':True, 'from_number':998456435, 'time':'07:20','date':'2022-07-31','text_of_SMS':'Reservation confirmed at the New York Plaza hotel for 2022-08-09 to 2022-09-14.'},\n",
    "                        {'has_been_viewed':True, 'from_number':8769038451, 'time':'07:20','date':'2022-07-25','text_of_SMS':'Lets catchup sometime, it has been so long!'},\n",
    "                        {'has_been_viewed':True, 'from_number':7739984533, 'time':'07:20','date':'2022-07-24','text_of_SMS':'Do you want to be rich today? Do you want to be your own boss? Check out beyourownboss.com. Register today for just $5, or book an appointment at 985-998-3452!!!'},\n",
    "                        {'has_been_viewed':True, 'from_number':3443498738, 'time':'07:20','date':'2022-07-22','text_of_SMS':'Want to lose weight? Get Dr. Oz magic pills @ozpills.com. Satisfaction guaranteed.'}]\n",
    "spam_words=['100% more', '100% free', '100% satisfied', 'Additional income', 'Be your own boss', 'Best price', 'Big bucks', 'Billion', 'Cash bonus', 'Cents on the dollar', 'Consolidate debt', 'Double your cash', 'Double your income', 'Earn extra cash', 'Earn money', 'Eliminate bad credit', 'Extra cash', 'Extra income', 'Expect to earn', 'Fast cash', 'Financial freedom', 'Free access', 'Free consultation', 'Free gift', 'Free hosting', 'Free info', 'Free investment', 'Free membership', 'Free money', 'Free preview', 'Free quote', 'Free trial', 'Full refund', 'Get out of debt', 'Get paid', 'Giveaway', 'Guaranteed', 'Increase sales', 'Increase traffic', 'Incredible deal', 'Lower rates', 'Lowest price', 'Make money', 'Million dollars', 'Miracle', 'Money back', 'Once in a lifetime', 'One time', 'Pennies a day', 'Potential earnings', 'Prize', 'Promise', 'Pure profit', 'Risk-free', 'Satisfaction guaranteed', 'Save big money', 'Save up to', 'Special promotion']\n",
    "update_words = ['Your order', 'appointment', 'Reservation confirmed', 'Card Not Present', 'Payment confirmation', 'Your payment']"
   ]
  },
  {
   "cell_type": "markdown",
   "id": "aea55501",
   "metadata": {},
   "source": [
    "2. The class will have two additional methods:\n",
    "\n",
    "    a. `get_unread_messages_by_category()`: This method will return all the **unread** messages of a particular category, i.e, `'spam'`, `'update'` or `'personal'`. The method will accept the category as an argument. If no argument is specified by the user for the category, then all the **unread** messages must be displayed. Once unread messages are returned, they will be marked as read. While returning unread messages, the `has_been_viewed` status must be changed to `True`, but the status itself must not be returned.\n",
    "    \n",
    "    b. `get_messages_by_category()`: This method will return all the messages (both read or unread) of a particular category, i.e, `'spam'`, `'update'` or `'personal'`. The method will accept the category as an argument. If no argument is specified by the user for the category, then all the messages must be returned.\n",
    "    \n",
    "    \n",
    "3. The class will modify the method `add_new_arrival(self,from_number, time, date, text_of_SMS)` of the parent class to tag a new message as `'spam'`, `'update'` or `'personal'`."
   ]
  },
  {
   "cell_type": "code",
   "execution_count": 147,
   "id": "cdcfa0ad",
   "metadata": {},
   "outputs": [],
   "source": [
    "class SMS_personalized_store_manager(SMS_store_manager):\n",
    "    def __init__(self, existing_messages, spam_words, update_words):\n",
    "        self.spam_words = spam_words\n",
    "        self.update_words = update_words\n",
    "        self.messages = [self.checkTag(item) for item in existing_messages]\n",
    "        \n",
    "    def checkTag(self, message):\n",
    "        for x in range(len(spam_words)):\n",
    "            if spam_words[x].lower() in message[\"text_of_SMS\"].lower():\n",
    "                message[\"tag\"] = 'spam'\n",
    "                return message\n",
    "        for x in range(len(update_words)):\n",
    "            if update_words[x].lower() in message[\"text_of_SMS\"].lower():\n",
    "                message[\"tag\"] = 'update'\n",
    "                return message\n",
    "        message[\"tag\"] = \"personal\"\n",
    "        return message\n",
    "\n",
    "    def get_unread_messages_by_category(self, category=None):\n",
    "        if category:\n",
    "            unreads = []\n",
    "            for i in range(len(self.messages)):\n",
    "                if self.messages[i]['has_been_viewed'] == False and self.messages[i]['tag'] == category:\n",
    "                    self.messages[i]['has_been_viewed'] = True\n",
    "                    unreads.append(i)\n",
    "            return [self.messages[item] for item in unreads]\n",
    "        else:\n",
    "            unreads = []\n",
    "            for i in range(len(self.messages)):\n",
    "                if self.messages[i]['has_been_viewed'] == False:\n",
    "                    self.messages[i]['has_been_viewed'] = True\n",
    "                    unreads.append(i)\n",
    "            return [self.messages[item] for item in unreads]\n",
    "        \n",
    "    def get_messages_by_category(self, category=None):\n",
    "        if category:\n",
    "            return [self.messages[i] for i in range(len(self.messages)) if self.messages[i][\"tag\"] == category]\n",
    "        else:\n",
    "            return self.messages\n",
    "    \n",
    "    def add_new_arrival(self, from_number, time_arrived, date_arrived, text_of_SMS):\n",
    "        self.messages.insert(0, self.checkTag({'has_been_viewed':False, 'from_number':int(from_number), 'time':time_arrived,'date':date_arrived,'text_of_SMS':text_of_SMS}))"
   ]
  },
  {
   "cell_type": "code",
   "execution_count": 148,
   "id": "913d4e3e",
   "metadata": {},
   "outputs": [],
   "source": [
    "ron_messages = SMS_personalized_store_manager(existing_messages, spam_words, update_words)"
   ]
  },
  {
   "cell_type": "markdown",
   "id": "34151bb3",
   "metadata": {},
   "source": [
    "Once you define the class, instantiate an object of this class with the lists `existing_messages`, `spam_words` and `update_words`, and call it *ron_messages*:\n",
    "\n",
    "### (2 points)\n",
    "Add a new message below:"
   ]
  },
  {
   "cell_type": "code",
   "execution_count": 149,
   "id": "ec0cdd7c",
   "metadata": {},
   "outputs": [],
   "source": [
    "from_number=8749373884\n",
    "time='07:25'\n",
    "date='2022-10-29'\n",
    "text_of_SMS='Hey, I want my bike back.'"
   ]
  },
  {
   "cell_type": "code",
   "execution_count": 150,
   "id": "2cf57dab",
   "metadata": {},
   "outputs": [],
   "source": [
    "ron_messages.add_new_arrival(from_number, time, date, text_of_SMS)"
   ]
  },
  {
   "cell_type": "markdown",
   "id": "966b60ff",
   "metadata": {},
   "source": [
    "### (2 points)\n",
    "Print all the unread messages tagged as `'personal'`. Use the method `get_unread_messages_by_category()`.\n"
   ]
  },
  {
   "cell_type": "code",
   "execution_count": 151,
   "id": "ba7eebc6",
   "metadata": {},
   "outputs": [
    {
     "name": "stdout",
     "output_type": "stream",
     "text": [
      "[{'has_been_viewed': True, 'from_number': 8749373884, 'time': '07:25', 'date': '2022-10-29', 'text_of_SMS': 'Hey, I want my bike back.', 'tag': 'personal'}, {'has_been_viewed': True, 'from_number': 8769038451, 'time': '09:30', 'date': '2022-10-27', 'text_of_SMS': 'Hi, how about lunch at 11?', 'tag': 'personal'}, {'has_been_viewed': True, 'from_number': 5646786643, 'time': '18:50', 'date': '2022-09-11', 'text_of_SMS': 'Where is the party bro?', 'tag': 'personal'}]\n"
     ]
    }
   ],
   "source": [
    "print(ron_messages.get_unread_messages_by_category('personal'))"
   ]
  },
  {
   "cell_type": "markdown",
   "id": "7faeaf95",
   "metadata": {},
   "source": [
    "### (2 points)\n",
    "Print all the unread messages tagged as `'update'`. Use the method `get_unread_messages_by_category()`.\n"
   ]
  },
  {
   "cell_type": "code",
   "execution_count": 152,
   "id": "d25c4ed1",
   "metadata": {},
   "outputs": [
    {
     "name": "stdout",
     "output_type": "stream",
     "text": [
      "[{'has_been_viewed': True, 'from_number': 9579038373, 'time': '19:30', 'date': '2022-10-20', 'text_of_SMS': 'Your order has arrived', 'tag': 'update'}, {'has_been_viewed': True, 'from_number': 4567653456, 'time': '11:50', 'date': '2022-09-15', 'text_of_SMS': 'Hi Brooke, we are confirming your Covid vaccine appointment on Thursday at 1900 hours', 'tag': 'update'}]\n"
     ]
    }
   ],
   "source": [
    "print(ron_messages.get_unread_messages_by_category('update'))"
   ]
  },
  {
   "cell_type": "markdown",
   "id": "24de66bf",
   "metadata": {},
   "source": [
    "### (2 points)\n",
    "Print all the unread messages. Use the method `get_unread_messages()`.\n"
   ]
  },
  {
   "cell_type": "code",
   "execution_count": 153,
   "id": "b8c00403",
   "metadata": {},
   "outputs": [
    {
     "name": "stdout",
     "output_type": "stream",
     "text": [
      "[{'has_been_viewed': True, 'from_number': 9845543492, 'time': '17:10', 'date': '2022-09-10', 'text_of_SMS': 'Free trial of ScanApp for 7 days for clear scanned documents, cancel anytime, $10.99 per month after 7 days', 'tag': 'spam'}]\n"
     ]
    }
   ],
   "source": [
    "print(ron_messages.get_unread_messages())"
   ]
  },
  {
   "cell_type": "markdown",
   "id": "583f4914",
   "metadata": {},
   "source": [
    "### (2 points)\n",
    "Print all the messages tagged as `'spam'`. Use the method `get_messages_by_category()`.\n",
    "\n"
   ]
  },
  {
   "cell_type": "code",
   "execution_count": 154,
   "id": "69995094",
   "metadata": {},
   "outputs": [
    {
     "data": {
      "text/plain": [
       "[{'has_been_viewed': True,\n",
       "  'from_number': 9845543492,\n",
       "  'time': '17:10',\n",
       "  'date': '2022-09-10',\n",
       "  'text_of_SMS': 'Free trial of ScanApp for 7 days for clear scanned documents, cancel anytime, $10.99 per month after 7 days',\n",
       "  'tag': 'spam'},\n",
       " {'has_been_viewed': True,\n",
       "  'from_number': 7739984533,\n",
       "  'time': '07:20',\n",
       "  'date': '2022-07-24',\n",
       "  'text_of_SMS': 'Do you want to be rich today? Do you want to be your own boss? Check out beyourownboss.com. Register today for just $5, or book an appointment at 985-998-3452!!!',\n",
       "  'tag': 'spam'},\n",
       " {'has_been_viewed': True,\n",
       "  'from_number': 3443498738,\n",
       "  'time': '07:20',\n",
       "  'date': '2022-07-22',\n",
       "  'text_of_SMS': 'Want to lose weight? Get Dr. Oz magic pills @ozpills.com. Satisfaction guaranteed.',\n",
       "  'tag': 'spam'}]"
      ]
     },
     "execution_count": 154,
     "metadata": {},
     "output_type": "execute_result"
    }
   ],
   "source": [
    "ron_messages.get_messages_by_category('spam')"
   ]
  },
  {
   "cell_type": "markdown",
   "id": "db9d4f27",
   "metadata": {},
   "source": [
    "### (2 points)\n",
    "Print all the messages tagged as `'update'`. Use the method `get_messages_by_category()`."
   ]
  },
  {
   "cell_type": "code",
   "execution_count": 155,
   "id": "e7134a96",
   "metadata": {},
   "outputs": [
    {
     "data": {
      "text/plain": [
       "[{'has_been_viewed': True,\n",
       "  'from_number': 9579038373,\n",
       "  'time': '19:30',\n",
       "  'date': '2022-10-20',\n",
       "  'text_of_SMS': 'Your order has arrived',\n",
       "  'tag': 'update'},\n",
       " {'has_been_viewed': True,\n",
       "  'from_number': 8639568726,\n",
       "  'time': '10:30',\n",
       "  'date': '2022-09-30',\n",
       "  'text_of_SMS': 'Card not present on American Express acc ending 54345 Sep 30 Amount $45.43 Merch: TOMATEFRESHKITCHEN.COM if unrecognized call # on Card',\n",
       "  'tag': 'update'},\n",
       " {'has_been_viewed': True,\n",
       "  'from_number': 4567653456,\n",
       "  'time': '11:50',\n",
       "  'date': '2022-09-15',\n",
       "  'text_of_SMS': 'Hi Brooke, we are confirming your Covid vaccine appointment on Thursday at 1900 hours',\n",
       "  'tag': 'update'},\n",
       " {'has_been_viewed': True,\n",
       "  'from_number': 998456435,\n",
       "  'time': '07:20',\n",
       "  'date': '2022-07-31',\n",
       "  'text_of_SMS': 'Reservation confirmed at the New York Plaza hotel for 2022-08-09 to 2022-09-14.',\n",
       "  'tag': 'update'}]"
      ]
     },
     "execution_count": 155,
     "metadata": {},
     "output_type": "execute_result"
    }
   ],
   "source": [
    "ron_messages.get_messages_by_category('update')"
   ]
  },
  {
   "cell_type": "markdown",
   "id": "65978984",
   "metadata": {},
   "source": [
    "## Creating a new datatype - list of dictionaries (8 points)"
   ]
  },
  {
   "cell_type": "markdown",
   "id": "9b2adf18",
   "metadata": {},
   "source": [
    "Read *movie_data* with the code below."
   ]
  },
  {
   "cell_type": "code",
   "execution_count": 205,
   "id": "647e5c8f",
   "metadata": {},
   "outputs": [],
   "source": [
    "import json\n",
    "with open(\"filtered_movies.json\", encoding=\"utf8\") as file:\n",
    "    movie_data=json.load(file)"
   ]
  },
  {
   "cell_type": "markdown",
   "id": "54b91468",
   "metadata": {},
   "source": [
    "### (4 points)\n",
    "Inherit the in-built python class `list()` to create a new class `list_dict()`. This class will be used for objects that are a list of dictionaries, where all the dictionaries in the list have the same keys. Add a method in this class, named as `sort_by_dict_value()` that sorts the dictionaries of the list based on the values of the desired key in the dictionaries. Sorting can be done in ascending or descending order depending on the user. The key to be used for sorting and the order (ascending / descending) will be parameters to the method `sort_by_dict_value()`. If the sorting order is unspecified, use ascending as default.\n",
    "\n"
   ]
  },
  {
   "cell_type": "code",
   "execution_count": 228,
   "id": "0c95fe63",
   "metadata": {},
   "outputs": [],
   "source": [
    "class list_dict(list):\n",
    "    def sort_by_dict_value(self, key, order):\n",
    "        def get_key(d):\n",
    "            return d[key]\n",
    "        way = False\n",
    "        if order == \"descending\":\n",
    "            way = True\n",
    "        self.sort(key=get_key, reverse=way)"
   ]
  },
  {
   "cell_type": "markdown",
   "id": "20b24db8",
   "metadata": {},
   "source": [
    "### (2 points)\n",
    "Instantiate an object of the class `list_dict()` with `movie_data`.\n",
    "\n",
    "If the name of the object is `mov`, then the method `sort_by_dict_value()` may be called as:\n",
    "mov.sort_by_dict_value(movie_parameter, ascending = True)\n",
    "\n",
    "where `movie_parameter` can be any key of the dictionaries, using the values of which the list of dictionaries has to be sorted.\n"
   ]
  },
  {
   "cell_type": "code",
   "execution_count": null,
   "id": "f0f32765",
   "metadata": {},
   "outputs": [],
   "source": [
    "movies = list_dict(movie_data)"
   ]
  },
  {
   "cell_type": "markdown",
   "id": "17437edc",
   "metadata": {},
   "source": [
    "### (2 points)\n",
    "Use the method `sort_by_dict_value()` to sort the list of dictionaries in increasing order of `Production Budget`. What is the name of the 45th movie in the sorted list of dictionaries?\n"
   ]
  },
  {
   "cell_type": "code",
   "execution_count": 232,
   "id": "5e4d9aab",
   "metadata": {},
   "outputs": [
    {
     "name": "stdout",
     "output_type": "stream",
     "text": [
      "In the Valley of Elah\n"
     ]
    }
   ],
   "source": [
    "movies.sort_by_dict_value('Production Budget', 'ascending')\n",
    "print(movies[44]['Title'])"
   ]
  },
  {
   "cell_type": "markdown",
   "id": "fd8c70ff",
   "metadata": {},
   "source": [
    "### (2 points)\n",
    "Use the method `sort_by_dict_value()` to sort the list of dictionaries in decreasing order of `Worldwide Gross`. What is the name of the 2nd movie in the sorted list of dictionaries?\n",
    "\n"
   ]
  },
  {
   "cell_type": "code",
   "execution_count": 235,
   "id": "3d88a0c7",
   "metadata": {},
   "outputs": [
    {
     "name": "stdout",
     "output_type": "stream",
     "text": [
      "The Dark Knight\n"
     ]
    }
   ],
   "source": [
    "movies.sort_by_dict_value('Worldwide Gross', 'descending')\n",
    "print(movies[1]['Title'])"
   ]
  }
 ],
 "metadata": {
  "kernelspec": {
   "display_name": "Python 3",
   "language": "python",
   "name": "python3"
  },
  "language_info": {
   "codemirror_mode": {
    "name": "ipython",
    "version": 3
   },
   "file_extension": ".py",
   "mimetype": "text/x-python",
   "name": "python",
   "nbconvert_exporter": "python",
   "pygments_lexer": "ipython3",
   "version": "3.12.7"
  }
 },
 "nbformat": 4,
 "nbformat_minor": 5
}
